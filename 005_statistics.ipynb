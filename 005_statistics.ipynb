{
 "cells": [
  {
   "cell_type": "code",
   "execution_count": 26,
   "metadata": {},
   "outputs": [],
   "source": [
    "import pandas as pd\n",
    "import numpy as np\n",
    "import matplotlib.pyplot as plt\n",
    "import seaborn as sns\n",
    "import scipy.stats as stats\n",
    "from statsmodels.formula.api import ols\n",
    "import statsmodels.api as sm\n",
    "HS300=pd.read_csv('tudata/HS300.csv').sort_values(by='trade_date')\n",
    "SZZS = pd.read_csv('tudata/SZZS.csv').sort_values(by='trade_date')\n",
    "daily = pd.read_csv('tudata/daily_000001.csv').sort_values(by='trade_date')\n",
    "daily_000156 = pd.read_csv('tudata/daily_000156.csv').sort_values(by='trade_date')\n",
    "daily_basic_000156 = pd.read_csv('tudata/daily_basic_000156.csv').sort_values(by='trade_date')"
   ]
  },
  {
   "cell_type": "code",
   "execution_count": null,
   "metadata": {},
   "outputs": [],
   "source": [
    "#1描述性统计\n",
    "#1.1频数分布直方图\n",
    "\n",
    "sns.distplot(daily['pct_chg'], kde=True,rug=True);"
   ]
  },
  {
   "cell_type": "code",
   "execution_count": null,
   "metadata": {},
   "outputs": [],
   "source": [
    "#1.2数据位置 平均数(mean)，中位数(median)，分为数(quantile)，众数(mode)\n",
    "print(daily['pct_chg'].mean())#平均数\n",
    "print(daily['pct_chg'].median())#中位数\n",
    "print(daily['pct_chg'].quantile(0.25))#下四分位数\n",
    "print(daily['pct_chg'].mode())#众数"
   ]
  },
  {
   "cell_type": "code",
   "execution_count": null,
   "metadata": {},
   "outputs": [],
   "source": [
    "#1.3数据离散度 极差(range)平均绝对偏差(Mean Absolute Deviation)方差(Variance)标准差(standard deviation)\n",
    "print(daily['pct_chg'].max()-daily['pct_chg'].min())\n",
    "print(daily['pct_chg'].mad())\n",
    "print(daily['pct_chg'].var())\n",
    "print(daily['pct_chg'].std())"
   ]
  },
  {
   "cell_type": "code",
   "execution_count": null,
   "metadata": {},
   "outputs": [],
   "source": [
    "#2随机变量 \n",
    "#2.1 连续随机变量\n",
    "\n",
    "density=stats.kde.gaussian_kde(HS300['pct_chg'])\n",
    "bins=np.arange(-5,5,0.02)\n",
    "\n",
    "f, axes = plt.subplots(2, 1)\n",
    "sns.distplot(HS300['pct_chg'], kde=True,rug=True, ax=axes[0]);\n",
    "sns.distplot(HS300['pct_chg'].cumsum(), kde=True,rug=True, ax=axes[1]);\n"
   ]
  },
  {
   "cell_type": "code",
   "execution_count": null,
   "metadata": {},
   "outputs": [],
   "source": [
    "#2.2(离散)二项分布(A binomial discrete random variable) 预测上涨概率\n",
    "p_rise = len(HS300['pct_chg'][HS300['pct_chg']>0])/len(HS300['pct_chg'])#上涨概率\n",
    "print(binom.pmf(6,10,p_rise))#10天6天上涨的概率 (pmf=Probability mass function)"
   ]
  },
  {
   "cell_type": "code",
   "execution_count": null,
   "metadata": {},
   "outputs": [],
   "source": [
    "#2.3(连续)正态分布(Normal/Gaussian distribution)\n",
    "loc=HS300['pct_chg'].mean();scale=HS300['pct_chg'].std();\n",
    "print(stats.norm.interval(0.95, loc=loc, scale=scale))#概率95%的置信区间\n",
    "print(stats.norm.pdf(0.5,loc=loc, scale=scale))#收益为0.5的概率\n",
    "print(stats.norm.cdf(0.5,loc=loc, scale=scale))#收益从负无穷到0.5的概率\n",
    "print(stats.norm.ppf(0.6688,loc=loc, scale=scale))#累计概率0.6688的对应收益\n",
    "print(stats.norm.stats(loc=loc, scale=scale,moments='mvsk'))"
   ]
  },
  {
   "cell_type": "code",
   "execution_count": null,
   "metadata": {},
   "outputs": [],
   "source": [
    "#2.4相关性分析 corr,决定系数 corr平方 ,双变量散点图\n",
    "print(pow(HS300['pct_chg'].corr(daily['pct_chg']),2))\n",
    "df=pd.concat([daily['trade_date'],daily['pct_chg'], HS300['pct_chg']], keys=['date','GS', 'HS'], axis=1)\n",
    "sns.jointplot(\"GS\", \"HS\", df,kind=\"reg\")"
   ]
  },
  {
   "cell_type": "code",
   "execution_count": 24,
   "metadata": {},
   "outputs": [
    {
     "name": "stdout",
     "output_type": "stream",
     "text": [
      "Ttest_1sampResult(statistic=-1.0684086602799998, pvalue=0.2864965907754479)\n",
      "Ttest_indResult(statistic=-0.34204171476936973, pvalue=0.73253788683603)\n",
      "Ttest_relResult(statistic=0.19011826941764062, pvalue=0.8493901824551036)\n"
     ]
    }
   ],
   "source": [
    "#3推断统计 α弃真概率，β取伪概率\n",
    "#3.1平均收益\n",
    "print(stats.ttest_1samp(HS300['pct_chg'],0))#p值(平均收益为0的概率)0.2864965907754479大于5%，故平均收益为0\n",
    "#(独立样本)平安银行和华数传媒的平均收益相等\n",
    "print(stats.ttest_ind(daily_000156['pct_chg'],daily['pct_chg']))\n",
    "#(配对样本)沪深300和上证综指的平均收益相等\n",
    "print(stats.ttest_rel(HS300['pct_chg'],SZZS['pct_chg']))"
   ]
  },
  {
   "cell_type": "code",
   "execution_count": 35,
   "metadata": {},
   "outputs": [
    {
     "name": "stdout",
     "output_type": "stream",
     "text": [
      "            df      sum_sq   mean_sq         F    PR(>F)\n",
      "C(pe)     82.0  529.846312  6.461540  1.108654  0.398586\n",
      "Residual  25.0  145.706902  5.828276       NaN       NaN\n"
     ]
    }
   ],
   "source": [
    "df=pd.concat([daily_000156['trade_date'],daily_000156['pct_chg'], daily_basic_000156['pe']],\n",
    "             keys=['date','pct', 'pe'], axis=1)\n",
    "model = ols('pct ~ C(pe)',data=df).fit()\n",
    "table1 = sm.stats.anova_lm(model)\n",
    "print(table1)#PR=0.398586说明有关系"
   ]
  },
  {
   "cell_type": "code",
   "execution_count": 39,
   "metadata": {},
   "outputs": [
    {
     "name": "stdout",
     "output_type": "stream",
     "text": [
      "                            OLS Regression Results                            \n",
      "==============================================================================\n",
      "Dep. Variable:                pct_chg   R-squared:                       0.951\n",
      "Model:                            OLS   Adj. R-squared:                  0.951\n",
      "Method:                 Least Squares   F-statistic:                     4320.\n",
      "Date:                Thu, 19 Sep 2019   Prob (F-statistic):          4.81e-147\n",
      "Time:                        20:49:35   Log-Likelihood:                -48.919\n",
      "No. Observations:                 223   AIC:                             101.8\n",
      "Df Residuals:                     221   BIC:                             108.7\n",
      "Df Model:                           1                                         \n",
      "Covariance Type:            nonrobust                                         \n",
      "==============================================================================\n",
      "                 coef    std err          t      P>|t|      [0.025      0.975]\n",
      "------------------------------------------------------------------------------\n",
      "const          0.0099      0.020      0.486      0.628      -0.030       0.050\n",
      "SZZS           1.0581      0.016     65.725      0.000       1.026       1.090\n",
      "==============================================================================\n",
      "Omnibus:                        3.156   Durbin-Watson:                   1.956\n",
      "Prob(Omnibus):                  0.206   Jarque-Bera (JB):                2.785\n",
      "Skew:                           0.254   Prob(JB):                        0.248\n",
      "Kurtosis:                       3.206   Cond. No.                         1.28\n",
      "==============================================================================\n",
      "\n",
      "Warnings:\n",
      "[1] Standard Errors assume that the covariance matrix of the errors is correctly specified.\n"
     ]
    }
   ],
   "source": [
    "model=sm.OLS(HS300['pct_chg'],sm.add_constant(SZZS['pct_chg'].rename(\"SZZS\"))).fit()\n",
    "print(model.summary())"
   ]
  },
  {
   "cell_type": "code",
   "execution_count": null,
   "metadata": {},
   "outputs": [],
   "source": []
  }
 ],
 "metadata": {
  "kernelspec": {
   "display_name": "Python 3",
   "language": "python",
   "name": "python3"
  },
  "language_info": {
   "codemirror_mode": {
    "name": "ipython",
    "version": 3
   },
   "file_extension": ".py",
   "mimetype": "text/x-python",
   "name": "python",
   "nbconvert_exporter": "python",
   "pygments_lexer": "ipython3",
   "version": "3.7.3"
  }
 },
 "nbformat": 4,
 "nbformat_minor": 2
}
