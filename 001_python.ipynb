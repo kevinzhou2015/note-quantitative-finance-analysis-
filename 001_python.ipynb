{
 "cells": [
  {
   "cell_type": "code",
   "execution_count": null,
   "metadata": {},
   "outputs": [],
   "source": [
    "\n",
    "#\"Hello, World!\" 程序\n",
    "print(\"Hello, World!\");"
   ]
  },
  {
   "cell_type": "code",
   "execution_count": 9,
   "metadata": {},
   "outputs": [],
   "source": [
    "#变量和字符\n",
    "height = 162\n",
    "asset = 1000000\n",
    "degree = 'Master'"
   ]
  },
  {
   "cell_type": "code",
   "execution_count": 10,
   "metadata": {},
   "outputs": [
    {
     "name": "stdout",
     "output_type": "stream",
     "text": [
      "height + height_2 = 332\n",
      "height - height_2 = -8\n",
      "height * height_2 = 27540\n",
      "height / height_2 = 0.9529411764705882\n",
      "height // height_2 = 0\n",
      "height % height_2 = 162\n",
      "height ** height_2 = 4145266648761911655716191312634259179949833976404260753282691678507443207698944269270379498665082417359996415042855122859326034124909782395093757704553864116179866397466865946757968616945533155262872661262104039821665248837539548871506923434306052297393069590554217411523484370526171589543187851764559472041284345904427043540909841999532568552843573411722248325128485102157824\n",
      "10\n",
      "2.0\n"
     ]
    }
   ],
   "source": [
    "#运算符\n",
    "height_2 =170\n",
    "\n",
    "# Add two operands\n",
    "print('height + height_2 =', height+height_2) # Output: height + height_2 = 332\n",
    "\n",
    "# Subtract right operand from the left\n",
    "print('height - height_2 =', height-height_2) # Output: height - height_2 = -8\n",
    "\n",
    "# Multiplheight_2 two operands\n",
    "print('height * height_2 =', height*height_2) # Output: height * height_2 = 27540\n",
    "\n",
    "# Divide left operand bheight_2 the right one \n",
    "print('height / height_2 =', height/height_2) # Output: height / height_2 = 0.9529411764705882\n",
    "\n",
    "# Floor division (quotient)\n",
    "print('height // height_2 =', height//height_2) # Output: height // height_2 = 0\n",
    "\n",
    "# Remainder of the division of left operand bheight_2 the right\n",
    "print('height % height_2 =', height%height_2) # Output: height % height_2 = 2\n",
    "\n",
    "# Left operand raised to the power of right (height^height_2)\n",
    "print('height ** height_2 =', height**height_2) # Output: height ** height_2 = 38416\n",
    "height = 5\n",
    "\n",
    "# height += 5 ----> height = height + 5\n",
    "height +=5\n",
    "print(height) # \n",
    "\n",
    "# height /= 5 ----> height = height / 5\n",
    "height /= 5\n",
    "print(height) "
   ]
  },
  {
   "cell_type": "code",
   "execution_count": null,
   "metadata": {},
   "outputs": [],
   "source": [
    "#注释\n",
    "\"\"\"This is a \n",
    "    multiline\n",
    "    comment.\"\"\n",
    "'''This is also a\n",
    "     multiline\n",
    "     comment.'''"
   ]
  },
  {
   "cell_type": "code",
   "execution_count": 11,
   "metadata": {},
   "outputs": [
    {
     "name": "stdout",
     "output_type": "stream",
     "text": [
      "Value of num_new: 246.0\n",
      "datatype of num_new: <class 'float'>\n",
      "579\n"
     ]
    }
   ],
   "source": [
    "#类型转换\n",
    "num_int = 123  # integer type\n",
    "num_flo = 123.0 # float type\n",
    "num_str = \"456\"   # str type\n",
    "\n",
    "num_new = num_int + num_flo\n",
    "print(\"Value of num_new:\",num_new)\n",
    "print(\"datatype of num_new:\",type(num_new))\n",
    "num_int = 123     # int type\n",
    "\n",
    "\n",
    "# explicitly converted to int type\n",
    "num_str = int(num_str) \n",
    "\n",
    "print(num_int+num_str)"
   ]
  },
  {
   "cell_type": "code",
   "execution_count": null,
   "metadata": {},
   "outputs": [],
   "source": [
    "#数据类型\n",
    "# Output: <class>\n",
    "print(type(5))\n",
    "\n",
    "# Output: <class>\n",
    "print(type(5.0))\n",
    "\n",
    "print(type(True))\n",
    "# <class>\n",
    "c = 5 + 3j\n",
    "print(type(c))"
   ]
  },
  {
   "cell_type": "code",
   "execution_count": null,
   "metadata": {},
   "outputs": [],
   "source": [
    "#数据结构-List\n",
    "# empty list\n",
    "empty_list = []\n",
    "# list of integers\n",
    "BWH_zhilin = [86, 61, 91]\n",
    "# list with mixed data types\n",
    "my_list = [1, \"Hello\", 3.4]\n",
    "language = [\"French\", \"German\", \"English\", \"Polish\"]\n",
    "\n",
    "# Accessing first element\n",
    "print(language[0])\n",
    "\n",
    "# Accessing fourth element\n",
    "print(language[3])"
   ]
  },
  {
   "cell_type": "code",
   "execution_count": null,
   "metadata": {},
   "outputs": [],
   "source": [
    "#数据结构-Tuple\n",
    "#不可变的list\n",
    "language = (\"French\", \"German\", \"English\", \"Polish\")\n",
    "print(language)"
   ]
  },
  {
   "cell_type": "code",
   "execution_count": null,
   "metadata": {},
   "outputs": [],
   "source": [
    "#数据结构-String\n",
    "# all of the following are equivalent\n",
    "my_string = 'Hello'\n",
    "print(my_string)\n",
    "\n",
    "my_string = \"Hello\"\n",
    "print(my_string)\n",
    "\n",
    "my_string = '''Hello'''\n",
    "print(my_string)\n",
    "\n",
    "# triple quotes string can extend multiple lines\n",
    "my_string = '''Hello, welcome to\n",
    "           the world of Python'''\n",
    "print(my_string)\n",
    "my_string = \"\"\"Hello, welcome to\n",
    "           the world of Python\"\"\"\n",
    "print(my_string)\n",
    "str = 'programiz'\n",
    "print('str = ', str)\n",
    "\n",
    "print('str[0] = ', str[0]) # Output: p\n",
    "\n",
    "print('str[-1] = ', str[-1]) # Output: z\n",
    "\n",
    "#slicing 2nd to 5th character\n",
    "print('str[1:5] = ', str[1:5]) # Output: rogr\n",
    "\n",
    "#slicing 6th to 2nd last character\n",
    "print('str[5:-2] = ', str[5:-2]) # Output: am\n",
    "str1 = 'Hello '\n",
    "str2 ='World!'\n",
    "\n",
    "# Output: Hello World!\n",
    "print(str1 + str2)\n",
    "\n",
    "# Hello Hello Hello\n",
    "print(str1 * 3)"
   ]
  },
  {
   "cell_type": "code",
   "execution_count": null,
   "metadata": {},
   "outputs": [],
   "source": [
    "#数据结构-set\n",
    "# set of integers\n",
    "my_set = {1, 2, 3}\n",
    "print(my_set)\n",
    "\n",
    "# set of mixed datatypes\n",
    "my_set = {1.0, \"Hello\", (1, 2, 3)}\n",
    "print(my_set)\n",
    "A = {1, 2, 3}\n",
    "B = {2, 3, 4, 5}\n",
    "\n",
    "# Equivalent to A.union(B) \n",
    "# Also equivalent to B.union(A)\n",
    "print(A | B) # Output: {1, 2, 3, 4, 5}\n",
    "\n",
    "# Equivalent to A.intersection(B)\n",
    "# Also equivalent to B.intersection(A)\n",
    "print (A & B) # Output: {2, 3}\n",
    "\n",
    "# Set Difference\n",
    "print (A - B) # Output: {1}\n",
    "\n",
    "# Set Symmetric Difference\n",
    "print(A ^ B)  # Output: {1, 4, 5}"
   ]
  },
  {
   "cell_type": "code",
   "execution_count": null,
   "metadata": {},
   "outputs": [],
   "source": [
    "#数据结构-字典\n",
    "# empty dictionary\n",
    "my_dict = {}\n",
    "\n",
    "# dictionary with integer keys\n",
    "my_dict = {1: 'apple', 2: 'ball'}\n",
    "\n",
    "# dictionary with mixed keys\n",
    "my_dict = {'name': 'John', 1: [2, 4, 3]}\n",
    "person = {'name':'Jack', 'age': 26, 'salary': 4534.2}\n",
    "print(person['age']) # Output: 26"
   ]
  },
  {
   "cell_type": "code",
   "execution_count": null,
   "metadata": {},
   "outputs": [],
   "source": [
    "#常用函数range()\n",
    "print(range(1, 10)) # Output: range(1, 10)\n",
    "numbers = range(1, 6)\n",
    "\n",
    "print(list(numbers)) # Output: [1, 2, 3, 4, 5]\n",
    "print(tuple(numbers)) # Output: (1, 2, 3, 4, 5)\n",
    "print(set(numbers)) # Output: {1, 2, 3, 4, 5}\n",
    "\n",
    "# Output: {1: 99, 2: 99, 3: 99, 4: 99, 5: 99} \n",
    "print(dict.fromkeys(numbers, 99))\n",
    "# Equivalent to: numbers = range(1, 6)\n",
    "numbers1 = range(1, 6 , 1)\n",
    "print(list(numbers1)) # Output: [1, 2, 3, 4, 5]\n",
    "\n",
    "numbers2 = range(1, 6, 2)\n",
    "print(list(numbers2)) # Output: [1, 3, 5]\n",
    "\n",
    "numbers3 = range(5, 0, -1)\n",
    "print(list(numbers3)) # Output: [5, 4, 3, 2, 1]"
   ]
  },
  {
   "cell_type": "code",
   "execution_count": null,
   "metadata": {},
   "outputs": [],
   "source": [
    "#条件判断 if else\n",
    "num = -1\n",
    "\n",
    "if num > 0:\n",
    "    print(\"Positive number\")\n",
    "elif num == 0:\n",
    "    print(\"Zero\")\n",
    "else:\n",
    "    print(\"Negative number\")\n",
    "    \n",
    "# Output: Negative number\n",
    "\n",
    "if False:\n",
    "  print(\"I am inside the body of if.\")\n",
    "  print(\"I am also inside the body of if.\")\n",
    "print(\"I am outside the body of if\")\n",
    "\n",
    "# Output: I am outside the body of if."
   ]
  },
  {
   "cell_type": "code",
   "execution_count": null,
   "metadata": {},
   "outputs": [],
   "source": [
    "#循环-while\n",
    "n = 100\n",
    "\n",
    "# initialize sum and counter\n",
    "sum = 0\n",
    "i = 1\n",
    "\n",
    "while i <= n:\n",
    "    sum = sum + i\n",
    "    i = i+1    # update counter\n",
    "\n",
    "print(\"The sum is\", sum)\n",
    "\n",
    "# Output: The sum is 5050"
   ]
  },
  {
   "cell_type": "code",
   "execution_count": null,
   "metadata": {},
   "outputs": [],
   "source": [
    "#循环-for\n",
    "\n",
    "# iterate over the list\n",
    "for val in  list(range(1,10)):\n",
    "  sum = sum+val\n",
    "\n",
    "print(\"The sum is\", sum) # Output: The sum is 28\n"
   ]
  },
  {
   "cell_type": "code",
   "execution_count": null,
   "metadata": {},
   "outputs": [],
   "source": [
    "#break continue pass\n",
    "for val in \"string\":\n",
    "    if val == \"r\":\n",
    "        break\n",
    "    print(val)\n",
    "\n",
    "print(\"The end\")\n",
    "\n",
    "for val in \"string\":\n",
    "    if val == \"r\":\n",
    "        continue\n",
    "    print(val)\n",
    "\n",
    "print(\"The end\")\n",
    "\n",
    "sequence = {'p', 'a', 's', 's'}\n",
    "for val in sequence:\n",
    "    pass"
   ]
  },
  {
   "cell_type": "code",
   "execution_count": null,
   "metadata": {},
   "outputs": [],
   "source": [
    "#函数\n",
    "def add_numbers(a, b):\n",
    "  sum = a + b\n",
    "  print(sum)\n",
    "\n",
    "add_numbers(4, 5)\n",
    "\n",
    "# Output: 9"
   ]
  },
  {
   "cell_type": "code",
   "execution_count": null,
   "metadata": {},
   "outputs": [],
   "source": [
    "#Lambda函数\n",
    "square = lambda x: x ** 2\n",
    "print(square(5))\n",
    "\n",
    "# Output: 25\n",
    "import myexample\n",
    " print(myexample.add(4, 5.5))\n",
    "import math\n",
    " print(math.sqrt(9))"
   ]
  },
  {
   "cell_type": "code",
   "execution_count": null,
   "metadata": {},
   "outputs": [],
   "source": [
    "#异常\n",
    "# import module sys to get the type of exception\n",
    "import sys\n",
    "\n",
    "randomList = ['a', 0, 2]\n",
    "\n",
    "for entry in randomList:\n",
    "    try:\n",
    "        print(\"The entry is\", entry)\n",
    "        r = 1/int(entry)\n",
    "        break\n",
    "    except:\n",
    "        print(\"Oops!\",sys.exc_info()[0],\"occurred.\")\n",
    "        print(\"Next entry.\")\n",
    "        print()\n",
    "print(\"The reciprocal of\",entry,\"is\",r)"
   ]
  },
  {
   "cell_type": "code",
   "execution_count": null,
   "metadata": {},
   "outputs": [],
   "source": [
    "#对象\n",
    "class MyClass:\n",
    "  \"This is my class\"\n",
    "  a = 10\n",
    "  def func(self):\n",
    "    print('Hello')\n",
    "\n",
    "# Output: 10\n",
    "print(MyClass.a)\n",
    "\n",
    "# Output: <function 0x0000000003079bf8=\"\" at=\"\" myclass.func=\"\">\n",
    "print(MyClass.func)\n",
    "\n",
    "# Output: 'This is my class'\n",
    "print(MyClass.__doc__)\n",
    "\n",
    "obj1 = MyClass()\n",
    "obj1.func()"
   ]
  },
  {
   "cell_type": "code",
   "execution_count": 12,
   "metadata": {},
   "outputs": [
    {
     "name": "stdout",
     "output_type": "stream",
     "text": [
      "Dog has 4 legs.\n",
      "Mammal is a warm-blooded animal.\n"
     ]
    }
   ],
   "source": [
    "#继承\n",
    "class Mammal:\n",
    "  def displayMammalFeatures(self):\n",
    "    print('Mammal is a warm-blooded animal.')\n",
    "    \n",
    "class Dog(Mammal):\n",
    "  def displayDogFeatures(self):\n",
    "    print('Dog has 4 legs.')\n",
    "\n",
    "d = Dog()\n",
    "d.displayDogFeatures()\n",
    "d.displayMammalFeatures()    "
   ]
  },
  {
   "cell_type": "code",
   "execution_count": null,
   "metadata": {},
   "outputs": [],
   "source": []
  }
 ],
 "metadata": {
  "kernelspec": {
   "display_name": "Python 3",
   "language": "python",
   "name": "python3"
  },
  "language_info": {
   "codemirror_mode": {
    "name": "ipython",
    "version": 3
   },
   "file_extension": ".py",
   "mimetype": "text/x-python",
   "name": "python",
   "nbconvert_exporter": "python",
   "pygments_lexer": "ipython3",
   "version": "3.7.3"
  }
 },
 "nbformat": 4,
 "nbformat_minor": 2
}
